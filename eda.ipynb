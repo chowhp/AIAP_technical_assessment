{
 "cells": [
  {
   "cell_type": "markdown",
   "id": "afd7612a",
   "metadata": {},
   "source": [
    "# Import libraries\n"
   ]
  },
  {
   "cell_type": "code",
   "execution_count": 1,
   "id": "f1cf447c",
   "metadata": {},
   "outputs": [
    {
     "name": "stdout",
     "output_type": "stream",
     "text": [
      "Requirement already satisfied: seaborn in /home/stdynamics/venv/lib/python3.8/site-packages (0.11.2)\n",
      "Requirement already satisfied: numpy>=1.15 in /usr/lib/python3/dist-packages (from seaborn) (1.17.4)\n",
      "Requirement already satisfied: matplotlib>=2.2 in /usr/lib/python3/dist-packages (from seaborn) (3.1.2)\n",
      "Requirement already satisfied: pandas>=0.23 in /home/stdynamics/venv/lib/python3.8/site-packages (from seaborn) (1.3.5)\n",
      "Requirement already satisfied: scipy>=1.0 in /usr/lib/python3/dist-packages (from seaborn) (1.3.3)\n",
      "Requirement already satisfied: pytz>=2017.3 in /usr/lib/python3/dist-packages (from pandas>=0.23->seaborn) (2019.3)\n",
      "Requirement already satisfied: python-dateutil>=2.7.3 in /usr/lib/python3/dist-packages (from pandas>=0.23->seaborn) (2.7.3)\n",
      "Note: you may need to restart the kernel to use updated packages.\n"
     ]
    }
   ],
   "source": [
    "%pip install seaborn\n",
    "import pandas as pd\n",
    "import sqlite3\n",
    "import sys\n",
    "import seaborn as sns\n",
    "import matplotlib.pyplot as plt\n",
    "import numpy as np\n",
    "from sklearn import datasets,preprocessing\n",
    "from sklearn.model_selection import train_test_split\n",
    "from sklearn.metrics import plot_confusion_matrix\n",
    "from sklearn.metrics import confusion_matrix"
   ]
  },
  {
   "cell_type": "markdown",
   "id": "bbbfad13",
   "metadata": {},
   "source": [
    "# Load dataset"
   ]
  },
  {
   "cell_type": "code",
   "execution_count": 2,
   "id": "240349af",
   "metadata": {},
   "outputs": [
    {
     "data": {
      "text/html": [
       "<div>\n",
       "<style scoped>\n",
       "    .dataframe tbody tr th:only-of-type {\n",
       "        vertical-align: middle;\n",
       "    }\n",
       "\n",
       "    .dataframe tbody tr th {\n",
       "        vertical-align: top;\n",
       "    }\n",
       "\n",
       "    .dataframe thead th {\n",
       "        text-align: right;\n",
       "    }\n",
       "</style>\n",
       "<table border=\"1\" class=\"dataframe\">\n",
       "  <thead>\n",
       "    <tr style=\"text-align: right;\">\n",
       "      <th></th>\n",
       "      <th>ID</th>\n",
       "      <th>Survive</th>\n",
       "      <th>Gender</th>\n",
       "      <th>Smoke</th>\n",
       "      <th>Diabetes</th>\n",
       "      <th>Age</th>\n",
       "      <th>Ejection Fraction</th>\n",
       "      <th>Sodium</th>\n",
       "      <th>Creatinine</th>\n",
       "      <th>Pletelets</th>\n",
       "      <th>Creatinine phosphokinase</th>\n",
       "      <th>Blood Pressure</th>\n",
       "      <th>Hemoglobin</th>\n",
       "      <th>Height</th>\n",
       "      <th>Weight</th>\n",
       "      <th>Favorite color</th>\n",
       "    </tr>\n",
       "  </thead>\n",
       "  <tbody>\n",
       "    <tr>\n",
       "      <th>0</th>\n",
       "      <td>TIG1GE</td>\n",
       "      <td>0</td>\n",
       "      <td>Male</td>\n",
       "      <td>Yes</td>\n",
       "      <td>Normal</td>\n",
       "      <td>50</td>\n",
       "      <td>Low</td>\n",
       "      <td>141</td>\n",
       "      <td>0.7</td>\n",
       "      <td>266000.0</td>\n",
       "      <td>185</td>\n",
       "      <td>105</td>\n",
       "      <td>12.3</td>\n",
       "      <td>180</td>\n",
       "      <td>93</td>\n",
       "      <td>green</td>\n",
       "    </tr>\n",
       "    <tr>\n",
       "      <th>1</th>\n",
       "      <td>VXUCV9</td>\n",
       "      <td>1</td>\n",
       "      <td>Male</td>\n",
       "      <td>No</td>\n",
       "      <td>Normal</td>\n",
       "      <td>75</td>\n",
       "      <td>Low</td>\n",
       "      <td>134</td>\n",
       "      <td>2.5</td>\n",
       "      <td>224000.0</td>\n",
       "      <td>99</td>\n",
       "      <td>162</td>\n",
       "      <td>13.0</td>\n",
       "      <td>140</td>\n",
       "      <td>47</td>\n",
       "      <td>black</td>\n",
       "    </tr>\n",
       "    <tr>\n",
       "      <th>2</th>\n",
       "      <td>AFH4F1</td>\n",
       "      <td>1</td>\n",
       "      <td>Female</td>\n",
       "      <td>No</td>\n",
       "      <td>Pre-diabetes</td>\n",
       "      <td>80</td>\n",
       "      <td>Low</td>\n",
       "      <td>135</td>\n",
       "      <td>1.3</td>\n",
       "      <td>192000.0</td>\n",
       "      <td>776</td>\n",
       "      <td>179</td>\n",
       "      <td>12.4</td>\n",
       "      <td>150</td>\n",
       "      <td>61</td>\n",
       "      <td>white</td>\n",
       "    </tr>\n",
       "    <tr>\n",
       "      <th>3</th>\n",
       "      <td>ZK6PAC</td>\n",
       "      <td>0</td>\n",
       "      <td>Male</td>\n",
       "      <td>No</td>\n",
       "      <td>Normal</td>\n",
       "      <td>-60</td>\n",
       "      <td>Low</td>\n",
       "      <td>136</td>\n",
       "      <td>0.9</td>\n",
       "      <td>228000.0</td>\n",
       "      <td>2261</td>\n",
       "      <td>136</td>\n",
       "      <td>15.3</td>\n",
       "      <td>130</td>\n",
       "      <td>48</td>\n",
       "      <td>yellow</td>\n",
       "    </tr>\n",
       "    <tr>\n",
       "      <th>4</th>\n",
       "      <td>6CVBRT</td>\n",
       "      <td>0</td>\n",
       "      <td>Female</td>\n",
       "      <td>No</td>\n",
       "      <td>Normal</td>\n",
       "      <td>70</td>\n",
       "      <td>Low</td>\n",
       "      <td>141</td>\n",
       "      <td>0.9</td>\n",
       "      <td>358000.0</td>\n",
       "      <td>1202</td>\n",
       "      <td>171</td>\n",
       "      <td>13.3</td>\n",
       "      <td>177</td>\n",
       "      <td>64</td>\n",
       "      <td>blue</td>\n",
       "    </tr>\n",
       "  </tbody>\n",
       "</table>\n",
       "</div>"
      ],
      "text/plain": [
       "       ID Survive  Gender Smoke      Diabetes  Age Ejection Fraction  Sodium  \\\n",
       "0  TIG1GE       0    Male   Yes        Normal   50               Low     141   \n",
       "1  VXUCV9       1    Male    No        Normal   75               Low     134   \n",
       "2  AFH4F1       1  Female    No  Pre-diabetes   80               Low     135   \n",
       "3  ZK6PAC       0    Male    No        Normal  -60               Low     136   \n",
       "4  6CVBRT       0  Female    No        Normal   70               Low     141   \n",
       "\n",
       "   Creatinine  Pletelets  Creatinine phosphokinase  Blood Pressure  \\\n",
       "0         0.7   266000.0                       185             105   \n",
       "1         2.5   224000.0                        99             162   \n",
       "2         1.3   192000.0                       776             179   \n",
       "3         0.9   228000.0                      2261             136   \n",
       "4         0.9   358000.0                      1202             171   \n",
       "\n",
       "   Hemoglobin  Height  Weight Favorite color  \n",
       "0        12.3     180      93          green  \n",
       "1        13.0     140      47          black  \n",
       "2        12.4     150      61          white  \n",
       "3        15.3     130      48         yellow  \n",
       "4        13.3     177      64           blue  "
      ]
     },
     "execution_count": 2,
     "metadata": {},
     "output_type": "execute_result"
    }
   ],
   "source": [
    "con = sqlite3.connect(\"data/survive.db\")\n",
    "df = pd.read_sql_query(\"SELECT * from survive\", con)\n",
    "df.head()"
   ]
  },
  {
   "cell_type": "markdown",
   "id": "4b26dbb4",
   "metadata": {},
   "source": [
    "# Data Cleaning"
   ]
  },
  {
   "cell_type": "markdown",
   "id": "df98f05a",
   "metadata": {},
   "source": [
    "## - drop null"
   ]
  },
  {
   "cell_type": "code",
   "execution_count": 3,
   "id": "a9074b12",
   "metadata": {},
   "outputs": [
    {
     "data": {
      "text/plain": [
       "ID                            0\n",
       "Survive                       0\n",
       "Gender                        0\n",
       "Smoke                         0\n",
       "Diabetes                      0\n",
       "Age                           0\n",
       "Ejection Fraction             0\n",
       "Sodium                        0\n",
       "Creatinine                  499\n",
       "Pletelets                     0\n",
       "Creatinine phosphokinase      0\n",
       "Blood Pressure                0\n",
       "Hemoglobin                    0\n",
       "Height                        0\n",
       "Weight                        0\n",
       "Favorite color                0\n",
       "dtype: int64"
      ]
     },
     "execution_count": 3,
     "metadata": {},
     "output_type": "execute_result"
    }
   ],
   "source": [
    "df.isnull().sum()"
   ]
  },
  {
   "cell_type": "markdown",
   "id": "fd42e4e0",
   "metadata": {},
   "source": [
    "#### Creatinine has missing 499 values - 3% of the data samples"
   ]
  },
  {
   "cell_type": "code",
   "execution_count": 4,
   "id": "2b0ad9a5",
   "metadata": {},
   "outputs": [],
   "source": [
    "df.dropna(inplace = True)"
   ]
  },
  {
   "cell_type": "markdown",
   "id": "ac5949df",
   "metadata": {},
   "source": [
    "## - drop duplicates in 'ID' column"
   ]
  },
  {
   "cell_type": "code",
   "execution_count": 5,
   "id": "1f4a68ea",
   "metadata": {},
   "outputs": [
    {
     "data": {
      "text/html": [
       "<div>\n",
       "<style scoped>\n",
       "    .dataframe tbody tr th:only-of-type {\n",
       "        vertical-align: middle;\n",
       "    }\n",
       "\n",
       "    .dataframe tbody tr th {\n",
       "        vertical-align: top;\n",
       "    }\n",
       "\n",
       "    .dataframe thead th {\n",
       "        text-align: right;\n",
       "    }\n",
       "</style>\n",
       "<table border=\"1\" class=\"dataframe\">\n",
       "  <thead>\n",
       "    <tr style=\"text-align: right;\">\n",
       "      <th></th>\n",
       "      <th>ID</th>\n",
       "      <th>Survive</th>\n",
       "      <th>Gender</th>\n",
       "      <th>Smoke</th>\n",
       "      <th>Diabetes</th>\n",
       "      <th>Age</th>\n",
       "      <th>Ejection Fraction</th>\n",
       "      <th>Sodium</th>\n",
       "      <th>Creatinine</th>\n",
       "      <th>Pletelets</th>\n",
       "      <th>Creatinine phosphokinase</th>\n",
       "      <th>Blood Pressure</th>\n",
       "      <th>Hemoglobin</th>\n",
       "      <th>Height</th>\n",
       "      <th>Weight</th>\n",
       "      <th>Favorite color</th>\n",
       "    </tr>\n",
       "  </thead>\n",
       "  <tbody>\n",
       "    <tr>\n",
       "      <th>11833</th>\n",
       "      <td>00G7VD</td>\n",
       "      <td>0</td>\n",
       "      <td>Female</td>\n",
       "      <td>No</td>\n",
       "      <td>Pre-diabetes</td>\n",
       "      <td>65</td>\n",
       "      <td>Low</td>\n",
       "      <td>136</td>\n",
       "      <td>1.0</td>\n",
       "      <td>257000.0</td>\n",
       "      <td>720</td>\n",
       "      <td>66</td>\n",
       "      <td>10.2</td>\n",
       "      <td>183</td>\n",
       "      <td>64</td>\n",
       "      <td>green</td>\n",
       "    </tr>\n",
       "    <tr>\n",
       "      <th>5817</th>\n",
       "      <td>00G7VD</td>\n",
       "      <td>1</td>\n",
       "      <td>Female</td>\n",
       "      <td>No</td>\n",
       "      <td>Pre-diabetes</td>\n",
       "      <td>82</td>\n",
       "      <td>Low</td>\n",
       "      <td>145</td>\n",
       "      <td>1.0</td>\n",
       "      <td>321000.0</td>\n",
       "      <td>855</td>\n",
       "      <td>152</td>\n",
       "      <td>9.3</td>\n",
       "      <td>154</td>\n",
       "      <td>88</td>\n",
       "      <td>white</td>\n",
       "    </tr>\n",
       "    <tr>\n",
       "      <th>13763</th>\n",
       "      <td>00IUNH</td>\n",
       "      <td>0</td>\n",
       "      <td>Male</td>\n",
       "      <td>No</td>\n",
       "      <td>Pre-diabetes</td>\n",
       "      <td>50</td>\n",
       "      <td>Low</td>\n",
       "      <td>130</td>\n",
       "      <td>0.7</td>\n",
       "      <td>260000.0</td>\n",
       "      <td>121</td>\n",
       "      <td>109</td>\n",
       "      <td>10.2</td>\n",
       "      <td>172</td>\n",
       "      <td>67</td>\n",
       "      <td>red</td>\n",
       "    </tr>\n",
       "    <tr>\n",
       "      <th>4750</th>\n",
       "      <td>00IUNH</td>\n",
       "      <td>0</td>\n",
       "      <td>Male</td>\n",
       "      <td>No</td>\n",
       "      <td>Diabetes</td>\n",
       "      <td>45</td>\n",
       "      <td>Normal</td>\n",
       "      <td>136</td>\n",
       "      <td>1.0</td>\n",
       "      <td>377000.0</td>\n",
       "      <td>308</td>\n",
       "      <td>139</td>\n",
       "      <td>14.9</td>\n",
       "      <td>189</td>\n",
       "      <td>76</td>\n",
       "      <td>red</td>\n",
       "    </tr>\n",
       "    <tr>\n",
       "      <th>13380</th>\n",
       "      <td>03HS9P</td>\n",
       "      <td>0</td>\n",
       "      <td>Male</td>\n",
       "      <td>Yes</td>\n",
       "      <td>Normal</td>\n",
       "      <td>61</td>\n",
       "      <td>Low</td>\n",
       "      <td>136</td>\n",
       "      <td>0.7</td>\n",
       "      <td>267000.0</td>\n",
       "      <td>248</td>\n",
       "      <td>174</td>\n",
       "      <td>16.4</td>\n",
       "      <td>154</td>\n",
       "      <td>70</td>\n",
       "      <td>black</td>\n",
       "    </tr>\n",
       "    <tr>\n",
       "      <th>...</th>\n",
       "      <td>...</td>\n",
       "      <td>...</td>\n",
       "      <td>...</td>\n",
       "      <td>...</td>\n",
       "      <td>...</td>\n",
       "      <td>...</td>\n",
       "      <td>...</td>\n",
       "      <td>...</td>\n",
       "      <td>...</td>\n",
       "      <td>...</td>\n",
       "      <td>...</td>\n",
       "      <td>...</td>\n",
       "      <td>...</td>\n",
       "      <td>...</td>\n",
       "      <td>...</td>\n",
       "      <td>...</td>\n",
       "    </tr>\n",
       "    <tr>\n",
       "      <th>13527</th>\n",
       "      <td>ZXGNKE</td>\n",
       "      <td>0</td>\n",
       "      <td>Female</td>\n",
       "      <td>No</td>\n",
       "      <td>Normal</td>\n",
       "      <td>64</td>\n",
       "      <td>Normal</td>\n",
       "      <td>135</td>\n",
       "      <td>1.5</td>\n",
       "      <td>309000.0</td>\n",
       "      <td>62</td>\n",
       "      <td>88</td>\n",
       "      <td>11.8</td>\n",
       "      <td>182</td>\n",
       "      <td>75</td>\n",
       "      <td>blue</td>\n",
       "    </tr>\n",
       "    <tr>\n",
       "      <th>5647</th>\n",
       "      <td>ZY89HT</td>\n",
       "      <td>No</td>\n",
       "      <td>Male</td>\n",
       "      <td>Yes</td>\n",
       "      <td>Normal</td>\n",
       "      <td>70</td>\n",
       "      <td>Normal</td>\n",
       "      <td>145</td>\n",
       "      <td>1.1</td>\n",
       "      <td>176000.0</td>\n",
       "      <td>171</td>\n",
       "      <td>168</td>\n",
       "      <td>10.9</td>\n",
       "      <td>171</td>\n",
       "      <td>74</td>\n",
       "      <td>blue</td>\n",
       "    </tr>\n",
       "    <tr>\n",
       "      <th>5120</th>\n",
       "      <td>ZY89HT</td>\n",
       "      <td>1</td>\n",
       "      <td>Male</td>\n",
       "      <td>No</td>\n",
       "      <td>Normal</td>\n",
       "      <td>45</td>\n",
       "      <td>Low</td>\n",
       "      <td>145</td>\n",
       "      <td>1.0</td>\n",
       "      <td>385000.0</td>\n",
       "      <td>582</td>\n",
       "      <td>91</td>\n",
       "      <td>12.4</td>\n",
       "      <td>131</td>\n",
       "      <td>58</td>\n",
       "      <td>green</td>\n",
       "    </tr>\n",
       "    <tr>\n",
       "      <th>1970</th>\n",
       "      <td>ZYRYZQ</td>\n",
       "      <td>0</td>\n",
       "      <td>Male</td>\n",
       "      <td>Yes</td>\n",
       "      <td>Normal</td>\n",
       "      <td>53</td>\n",
       "      <td>Normal</td>\n",
       "      <td>138</td>\n",
       "      <td>0.7</td>\n",
       "      <td>249000.0</td>\n",
       "      <td>1808</td>\n",
       "      <td>177</td>\n",
       "      <td>10.7</td>\n",
       "      <td>157</td>\n",
       "      <td>72</td>\n",
       "      <td>yellow</td>\n",
       "    </tr>\n",
       "    <tr>\n",
       "      <th>12048</th>\n",
       "      <td>ZYRYZQ</td>\n",
       "      <td>1</td>\n",
       "      <td>Male</td>\n",
       "      <td>Yes</td>\n",
       "      <td>Normal</td>\n",
       "      <td>60</td>\n",
       "      <td>Low</td>\n",
       "      <td>127</td>\n",
       "      <td>2.9</td>\n",
       "      <td>119000.0</td>\n",
       "      <td>68</td>\n",
       "      <td>59</td>\n",
       "      <td>13.1</td>\n",
       "      <td>167</td>\n",
       "      <td>94</td>\n",
       "      <td>green</td>\n",
       "    </tr>\n",
       "  </tbody>\n",
       "</table>\n",
       "<p>1712 rows × 16 columns</p>\n",
       "</div>"
      ],
      "text/plain": [
       "           ID Survive  Gender Smoke      Diabetes  Age Ejection Fraction  \\\n",
       "11833  00G7VD       0  Female    No  Pre-diabetes   65               Low   \n",
       "5817   00G7VD       1  Female    No  Pre-diabetes   82               Low   \n",
       "13763  00IUNH       0    Male    No  Pre-diabetes   50               Low   \n",
       "4750   00IUNH       0    Male    No      Diabetes   45            Normal   \n",
       "13380  03HS9P       0    Male   Yes        Normal   61               Low   \n",
       "...       ...     ...     ...   ...           ...  ...               ...   \n",
       "13527  ZXGNKE       0  Female    No        Normal   64            Normal   \n",
       "5647   ZY89HT      No    Male   Yes        Normal   70            Normal   \n",
       "5120   ZY89HT       1    Male    No        Normal   45               Low   \n",
       "1970   ZYRYZQ       0    Male   Yes        Normal   53            Normal   \n",
       "12048  ZYRYZQ       1    Male   Yes        Normal   60               Low   \n",
       "\n",
       "       Sodium  Creatinine  Pletelets  Creatinine phosphokinase  \\\n",
       "11833     136         1.0   257000.0                       720   \n",
       "5817      145         1.0   321000.0                       855   \n",
       "13763     130         0.7   260000.0                       121   \n",
       "4750      136         1.0   377000.0                       308   \n",
       "13380     136         0.7   267000.0                       248   \n",
       "...       ...         ...        ...                       ...   \n",
       "13527     135         1.5   309000.0                        62   \n",
       "5647      145         1.1   176000.0                       171   \n",
       "5120      145         1.0   385000.0                       582   \n",
       "1970      138         0.7   249000.0                      1808   \n",
       "12048     127         2.9   119000.0                        68   \n",
       "\n",
       "       Blood Pressure  Hemoglobin  Height  Weight Favorite color  \n",
       "11833              66        10.2     183      64          green  \n",
       "5817              152         9.3     154      88          white  \n",
       "13763             109        10.2     172      67            red  \n",
       "4750              139        14.9     189      76            red  \n",
       "13380             174        16.4     154      70          black  \n",
       "...               ...         ...     ...     ...            ...  \n",
       "13527              88        11.8     182      75           blue  \n",
       "5647              168        10.9     171      74           blue  \n",
       "5120               91        12.4     131      58          green  \n",
       "1970              177        10.7     157      72         yellow  \n",
       "12048              59        13.1     167      94          green  \n",
       "\n",
       "[1712 rows x 16 columns]"
      ]
     },
     "execution_count": 5,
     "metadata": {},
     "output_type": "execute_result"
    }
   ],
   "source": [
    "duplicates=df.duplicated(subset='ID', keep=False)\n",
    "df[duplicates].sort_values(by = 'ID')"
   ]
  },
  {
   "cell_type": "code",
   "execution_count": 6,
   "id": "d9d40d7c",
   "metadata": {},
   "outputs": [],
   "source": [
    "df.drop_duplicates(subset = 'ID', keep = 'first', inplace = True)"
   ]
  },
  {
   "cell_type": "markdown",
   "id": "1c02d4aa",
   "metadata": {},
   "source": [
    "# - drop features"
   ]
  },
  {
   "cell_type": "code",
   "execution_count": 7,
   "id": "130dee1a",
   "metadata": {},
   "outputs": [],
   "source": [
    "drop_col = ['Favorite color', 'Height', 'ID']\n",
    "df.drop(drop_col, axis=1, inplace=True)"
   ]
  },
  {
   "cell_type": "markdown",
   "id": "193882ae",
   "metadata": {},
   "source": [
    "#### Diabetes, Favorite color, Height & ID - independent to the survival rate"
   ]
  },
  {
   "cell_type": "markdown",
   "id": "c38dc1f8",
   "metadata": {},
   "source": [
    "## - consistency check"
   ]
  },
  {
   "cell_type": "code",
   "execution_count": 8,
   "id": "e6889215",
   "metadata": {},
   "outputs": [
    {
     "data": {
      "text/plain": [
       "Survive                      object\n",
       "Gender                       object\n",
       "Smoke                        object\n",
       "Diabetes                     object\n",
       "Age                           int64\n",
       "Ejection Fraction            object\n",
       "Sodium                        int64\n",
       "Creatinine                  float64\n",
       "Pletelets                   float64\n",
       "Creatinine phosphokinase      int64\n",
       "Blood Pressure                int64\n",
       "Hemoglobin                  float64\n",
       "Weight                        int64\n",
       "dtype: object"
      ]
     },
     "execution_count": 8,
     "metadata": {},
     "output_type": "execute_result"
    }
   ],
   "source": [
    "df.dtypes"
   ]
  },
  {
   "cell_type": "code",
   "execution_count": 9,
   "id": "697d9e90",
   "metadata": {},
   "outputs": [
    {
     "data": {
      "text/plain": [
       "array(['Normal', 'Pre-diabetes', 'Diabetes'], dtype=object)"
      ]
     },
     "execution_count": 9,
     "metadata": {},
     "output_type": "execute_result"
    }
   ],
   "source": [
    "df['Diabetes'].unique()\n"
   ]
  },
  {
   "cell_type": "markdown",
   "id": "ea0502b9",
   "metadata": {},
   "source": [
    "#### assign 'Normal' -> 0,'Pre-diabetes\" -> 1, \"Diabetes -> 2"
   ]
  },
  {
   "cell_type": "code",
   "execution_count": 10,
   "id": "c8e24506",
   "metadata": {},
   "outputs": [
    {
     "data": {
      "text/plain": [
       "count    13614.000000\n",
       "mean         0.620244\n",
       "std          0.804228\n",
       "min          0.000000\n",
       "25%          0.000000\n",
       "50%          0.000000\n",
       "75%          1.000000\n",
       "max          2.000000\n",
       "Name: Diabetes, dtype: float64"
      ]
     },
     "execution_count": 10,
     "metadata": {},
     "output_type": "execute_result"
    }
   ],
   "source": [
    "df.loc[df['Diabetes'] == 'Normal', 'Diabetes'] = '0'\n",
    "df.loc[df['Diabetes'] == 'Pre-diabetes', 'Diabetes'] = '1'\n",
    "df.loc[df['Diabetes'] == 'Diabetes', 'Diabetes'] = '2'\n",
    "df['Diabetes']= df['Diabetes'].astype('int')\n",
    "df['Diabetes'].describe()"
   ]
  },
  {
   "cell_type": "code",
   "execution_count": 11,
   "id": "3bc75653",
   "metadata": {},
   "outputs": [
    {
     "data": {
      "text/plain": [
       "array(['0', '1', 'No', 'Yes'], dtype=object)"
      ]
     },
     "execution_count": 11,
     "metadata": {},
     "output_type": "execute_result"
    }
   ],
   "source": [
    "df['Survive'].unique()"
   ]
  },
  {
   "cell_type": "markdown",
   "id": "97aef582",
   "metadata": {},
   "source": [
    "#### assign 'No' -> 0 & Yes -> 1"
   ]
  },
  {
   "cell_type": "code",
   "execution_count": 12,
   "id": "747f006d",
   "metadata": {},
   "outputs": [
    {
     "data": {
      "text/plain": [
       "count    13614.000000\n",
       "mean         0.332305\n",
       "std          0.471057\n",
       "min          0.000000\n",
       "25%          0.000000\n",
       "50%          0.000000\n",
       "75%          1.000000\n",
       "max          1.000000\n",
       "Name: Survive, dtype: float64"
      ]
     },
     "execution_count": 12,
     "metadata": {},
     "output_type": "execute_result"
    }
   ],
   "source": [
    "df.loc[df['Survive'] == 'No', 'Survive'] = '0'\n",
    "df.loc[df['Survive'] == 'Yes', 'Survive'] = '1'\n",
    "df['Survive']= df['Survive'].astype('int')\n",
    "df['Survive'].describe()"
   ]
  },
  {
   "cell_type": "code",
   "execution_count": 13,
   "id": "2c1b0665",
   "metadata": {},
   "outputs": [
    {
     "data": {
      "text/plain": [
       "array(['Male', 'Female'], dtype=object)"
      ]
     },
     "execution_count": 13,
     "metadata": {},
     "output_type": "execute_result"
    }
   ],
   "source": [
    "df['Gender'].unique()"
   ]
  },
  {
   "cell_type": "markdown",
   "id": "035c0361",
   "metadata": {},
   "source": [
    "#### assign 'Male' -> 1 & 'Female' -> 0"
   ]
  },
  {
   "cell_type": "code",
   "execution_count": 14,
   "id": "d43c3ca4",
   "metadata": {},
   "outputs": [
    {
     "data": {
      "text/plain": [
       "count    13614.000000\n",
       "mean         0.649919\n",
       "std          0.477013\n",
       "min          0.000000\n",
       "25%          0.000000\n",
       "50%          1.000000\n",
       "75%          1.000000\n",
       "max          1.000000\n",
       "Name: Gender, dtype: float64"
      ]
     },
     "execution_count": 14,
     "metadata": {},
     "output_type": "execute_result"
    }
   ],
   "source": [
    "df.loc[df['Gender'] == 'Male', 'Gender'] = '1'\n",
    "df.loc[df['Gender'] == 'Female', 'Gender'] = '0'\n",
    "df['Gender']= df['Gender'].astype('int')\n",
    "df['Gender'].describe()"
   ]
  },
  {
   "cell_type": "code",
   "execution_count": 15,
   "id": "090ddd6f",
   "metadata": {},
   "outputs": [
    {
     "data": {
      "text/plain": [
       "array(['Yes', 'No', 'NO', 'YES'], dtype=object)"
      ]
     },
     "execution_count": 15,
     "metadata": {},
     "output_type": "execute_result"
    }
   ],
   "source": [
    "df['Smoke'].unique()"
   ]
  },
  {
   "cell_type": "markdown",
   "id": "db69f065",
   "metadata": {},
   "source": [
    "#### assign 'Yes' - 'YES' -> 1  & 'No' - 'NO' -> 0"
   ]
  },
  {
   "cell_type": "code",
   "execution_count": 16,
   "id": "80ab691c",
   "metadata": {},
   "outputs": [
    {
     "data": {
      "text/plain": [
       "count    13614.000000\n",
       "mean         0.325547\n",
       "std          0.468596\n",
       "min          0.000000\n",
       "25%          0.000000\n",
       "50%          0.000000\n",
       "75%          1.000000\n",
       "max          1.000000\n",
       "Name: Smoke, dtype: float64"
      ]
     },
     "execution_count": 16,
     "metadata": {},
     "output_type": "execute_result"
    }
   ],
   "source": [
    "df.loc[df['Smoke'] == 'Yes', 'Smoke'] = '1'\n",
    "df.loc[df['Smoke'] == 'YES', 'Smoke'] = '1'\n",
    "df.loc[df['Smoke'] == 'No', 'Smoke'] = '0'\n",
    "df.loc[df['Smoke'] == 'NO', 'Smoke'] = '0'\n",
    "df['Smoke']= df['Smoke'].astype('int')\n",
    "df['Smoke'].describe()"
   ]
  },
  {
   "cell_type": "code",
   "execution_count": 17,
   "id": "2f9321b8",
   "metadata": {},
   "outputs": [
    {
     "data": {
      "text/plain": [
       "array(['Low', 'Normal', 'High', 'L', 'N'], dtype=object)"
      ]
     },
     "execution_count": 17,
     "metadata": {},
     "output_type": "execute_result"
    }
   ],
   "source": [
    "df['Ejection Fraction'].unique()"
   ]
  },
  {
   "cell_type": "markdown",
   "id": "ea4429ee",
   "metadata": {},
   "source": [
    "#### assign 'Low' - 'L' -> 1  & 'Normal' - 'N' -> 2 & 'High' -> 3"
   ]
  },
  {
   "cell_type": "code",
   "execution_count": 18,
   "id": "42660fdb",
   "metadata": {},
   "outputs": [
    {
     "data": {
      "text/plain": [
       "count    13614.000000\n",
       "mean         1.122374\n",
       "std          0.340050\n",
       "min          1.000000\n",
       "25%          1.000000\n",
       "50%          1.000000\n",
       "75%          1.000000\n",
       "max          3.000000\n",
       "Name: Ejection Fraction, dtype: float64"
      ]
     },
     "execution_count": 18,
     "metadata": {},
     "output_type": "execute_result"
    }
   ],
   "source": [
    "df.loc[df['Ejection Fraction'] == 'L', 'Ejection Fraction'] = '1'\n",
    "df.loc[df['Ejection Fraction'] == 'Low', 'Ejection Fraction'] = '1'\n",
    "df.loc[df['Ejection Fraction'] == 'N', 'Ejection Fraction'] = '2'\n",
    "df.loc[df['Ejection Fraction'] == 'Normal', 'Ejection Fraction'] = '2'\n",
    "df.loc[df['Ejection Fraction'] == 'High', 'Ejection Fraction'] = '3'\n",
    "df['Ejection Fraction']= df['Ejection Fraction'].astype('int')\n",
    "df['Ejection Fraction'].describe()"
   ]
  },
  {
   "cell_type": "code",
   "execution_count": 19,
   "id": "bfe75621",
   "metadata": {},
   "outputs": [
    {
     "data": {
      "text/plain": [
       "array([ 50,  75,  80, -60,  70,  55,  65,  60, -40,  53,  68,  42,  45,\n",
       "        79,  58, -85,  49,  94,  43,  77,  51,  61,  72,  69,  40,  78,\n",
       "        62,  63,  87,  54,  57,  95,  90,  48, -45,  56, -58,  85, -50,\n",
       "        86, -65,  73,  67, -52,  82,  59,  46,  44,  64,  52, -69, -42,\n",
       "        41,  47, -53,  81, -44, -49, -63,  66, -59, -41, -70, -48, -55,\n",
       "       -51, -73, -75, -57, -64, -78, -54, -90, -80, -86, -61, -46, -68,\n",
       "       -43, -72, -66, -81, -47, -62, -82, -67])"
      ]
     },
     "execution_count": 19,
     "metadata": {},
     "output_type": "execute_result"
    }
   ],
   "source": [
    "df['Age'].unique()"
   ]
  },
  {
   "cell_type": "markdown",
   "id": "80f7faf4",
   "metadata": {},
   "source": [
    "#### change negative age to positive"
   ]
  },
  {
   "cell_type": "code",
   "execution_count": 20,
   "id": "4fc40cad",
   "metadata": {},
   "outputs": [
    {
     "data": {
      "text/plain": [
       "count    13614.000000\n",
       "mean        60.967166\n",
       "std         11.901949\n",
       "min         40.000000\n",
       "25%         51.000000\n",
       "50%         60.000000\n",
       "75%         70.000000\n",
       "max         95.000000\n",
       "Name: Age, dtype: float64"
      ]
     },
     "execution_count": 20,
     "metadata": {},
     "output_type": "execute_result"
    }
   ],
   "source": [
    "df['Age'] = df['Age'].abs()\n",
    "df.reset_index(drop=True, inplace=True)\n",
    "df['Age'].describe()"
   ]
  },
  {
   "cell_type": "markdown",
   "id": "f52b6424",
   "metadata": {},
   "source": [
    "#### Cleaned dataset"
   ]
  },
  {
   "cell_type": "code",
   "execution_count": 21,
   "id": "31817b58",
   "metadata": {},
   "outputs": [
    {
     "data": {
      "text/html": [
       "<div>\n",
       "<style scoped>\n",
       "    .dataframe tbody tr th:only-of-type {\n",
       "        vertical-align: middle;\n",
       "    }\n",
       "\n",
       "    .dataframe tbody tr th {\n",
       "        vertical-align: top;\n",
       "    }\n",
       "\n",
       "    .dataframe thead th {\n",
       "        text-align: right;\n",
       "    }\n",
       "</style>\n",
       "<table border=\"1\" class=\"dataframe\">\n",
       "  <thead>\n",
       "    <tr style=\"text-align: right;\">\n",
       "      <th></th>\n",
       "      <th>Survive</th>\n",
       "      <th>Gender</th>\n",
       "      <th>Smoke</th>\n",
       "      <th>Diabetes</th>\n",
       "      <th>Age</th>\n",
       "      <th>Ejection Fraction</th>\n",
       "      <th>Sodium</th>\n",
       "      <th>Creatinine</th>\n",
       "      <th>Pletelets</th>\n",
       "      <th>Creatinine phosphokinase</th>\n",
       "      <th>Blood Pressure</th>\n",
       "      <th>Hemoglobin</th>\n",
       "      <th>Weight</th>\n",
       "    </tr>\n",
       "  </thead>\n",
       "  <tbody>\n",
       "    <tr>\n",
       "      <th>count</th>\n",
       "      <td>13614.000000</td>\n",
       "      <td>13614.000000</td>\n",
       "      <td>13614.000000</td>\n",
       "      <td>13614.000000</td>\n",
       "      <td>13614.000000</td>\n",
       "      <td>13614.000000</td>\n",
       "      <td>13614.000000</td>\n",
       "      <td>13614.000000</td>\n",
       "      <td>13614.000000</td>\n",
       "      <td>13614.000000</td>\n",
       "      <td>13614.000000</td>\n",
       "      <td>13614.000000</td>\n",
       "      <td>13614.000000</td>\n",
       "    </tr>\n",
       "    <tr>\n",
       "      <th>mean</th>\n",
       "      <td>0.332305</td>\n",
       "      <td>0.649919</td>\n",
       "      <td>0.325547</td>\n",
       "      <td>0.620244</td>\n",
       "      <td>60.967166</td>\n",
       "      <td>1.122374</td>\n",
       "      <td>136.564419</td>\n",
       "      <td>1.412263</td>\n",
       "      <td>262900.042611</td>\n",
       "      <td>578.886220</td>\n",
       "      <td>103.783605</td>\n",
       "      <td>12.913743</td>\n",
       "      <td>69.543558</td>\n",
       "    </tr>\n",
       "    <tr>\n",
       "      <th>std</th>\n",
       "      <td>0.471057</td>\n",
       "      <td>0.477013</td>\n",
       "      <td>0.468596</td>\n",
       "      <td>0.804228</td>\n",
       "      <td>11.901949</td>\n",
       "      <td>0.340050</td>\n",
       "      <td>4.384005</td>\n",
       "      <td>1.044798</td>\n",
       "      <td>97810.948267</td>\n",
       "      <td>949.162194</td>\n",
       "      <td>39.709990</td>\n",
       "      <td>2.500163</td>\n",
       "      <td>25.289067</td>\n",
       "    </tr>\n",
       "    <tr>\n",
       "      <th>min</th>\n",
       "      <td>0.000000</td>\n",
       "      <td>0.000000</td>\n",
       "      <td>0.000000</td>\n",
       "      <td>0.000000</td>\n",
       "      <td>40.000000</td>\n",
       "      <td>1.000000</td>\n",
       "      <td>113.000000</td>\n",
       "      <td>0.500000</td>\n",
       "      <td>25100.000000</td>\n",
       "      <td>23.000000</td>\n",
       "      <td>40.000000</td>\n",
       "      <td>9.000000</td>\n",
       "      <td>19.000000</td>\n",
       "    </tr>\n",
       "    <tr>\n",
       "      <th>25%</th>\n",
       "      <td>0.000000</td>\n",
       "      <td>0.000000</td>\n",
       "      <td>0.000000</td>\n",
       "      <td>0.000000</td>\n",
       "      <td>51.000000</td>\n",
       "      <td>1.000000</td>\n",
       "      <td>134.000000</td>\n",
       "      <td>0.900000</td>\n",
       "      <td>211000.000000</td>\n",
       "      <td>118.000000</td>\n",
       "      <td>70.000000</td>\n",
       "      <td>10.700000</td>\n",
       "      <td>50.000000</td>\n",
       "    </tr>\n",
       "    <tr>\n",
       "      <th>50%</th>\n",
       "      <td>0.000000</td>\n",
       "      <td>1.000000</td>\n",
       "      <td>0.000000</td>\n",
       "      <td>0.000000</td>\n",
       "      <td>60.000000</td>\n",
       "      <td>1.000000</td>\n",
       "      <td>137.000000</td>\n",
       "      <td>1.100000</td>\n",
       "      <td>262000.000000</td>\n",
       "      <td>250.000000</td>\n",
       "      <td>100.000000</td>\n",
       "      <td>12.700000</td>\n",
       "      <td>66.000000</td>\n",
       "    </tr>\n",
       "    <tr>\n",
       "      <th>75%</th>\n",
       "      <td>1.000000</td>\n",
       "      <td>1.000000</td>\n",
       "      <td>1.000000</td>\n",
       "      <td>1.000000</td>\n",
       "      <td>70.000000</td>\n",
       "      <td>1.000000</td>\n",
       "      <td>140.000000</td>\n",
       "      <td>1.400000</td>\n",
       "      <td>304000.000000</td>\n",
       "      <td>582.000000</td>\n",
       "      <td>137.000000</td>\n",
       "      <td>15.100000</td>\n",
       "      <td>87.000000</td>\n",
       "    </tr>\n",
       "    <tr>\n",
       "      <th>max</th>\n",
       "      <td>1.000000</td>\n",
       "      <td>1.000000</td>\n",
       "      <td>1.000000</td>\n",
       "      <td>2.000000</td>\n",
       "      <td>95.000000</td>\n",
       "      <td>3.000000</td>\n",
       "      <td>148.000000</td>\n",
       "      <td>9.400000</td>\n",
       "      <td>850000.000000</td>\n",
       "      <td>7861.000000</td>\n",
       "      <td>179.000000</td>\n",
       "      <td>17.500000</td>\n",
       "      <td>141.000000</td>\n",
       "    </tr>\n",
       "  </tbody>\n",
       "</table>\n",
       "</div>"
      ],
      "text/plain": [
       "            Survive        Gender         Smoke      Diabetes           Age  \\\n",
       "count  13614.000000  13614.000000  13614.000000  13614.000000  13614.000000   \n",
       "mean       0.332305      0.649919      0.325547      0.620244     60.967166   \n",
       "std        0.471057      0.477013      0.468596      0.804228     11.901949   \n",
       "min        0.000000      0.000000      0.000000      0.000000     40.000000   \n",
       "25%        0.000000      0.000000      0.000000      0.000000     51.000000   \n",
       "50%        0.000000      1.000000      0.000000      0.000000     60.000000   \n",
       "75%        1.000000      1.000000      1.000000      1.000000     70.000000   \n",
       "max        1.000000      1.000000      1.000000      2.000000     95.000000   \n",
       "\n",
       "       Ejection Fraction        Sodium    Creatinine      Pletelets  \\\n",
       "count       13614.000000  13614.000000  13614.000000   13614.000000   \n",
       "mean            1.122374    136.564419      1.412263  262900.042611   \n",
       "std             0.340050      4.384005      1.044798   97810.948267   \n",
       "min             1.000000    113.000000      0.500000   25100.000000   \n",
       "25%             1.000000    134.000000      0.900000  211000.000000   \n",
       "50%             1.000000    137.000000      1.100000  262000.000000   \n",
       "75%             1.000000    140.000000      1.400000  304000.000000   \n",
       "max             3.000000    148.000000      9.400000  850000.000000   \n",
       "\n",
       "       Creatinine phosphokinase  Blood Pressure    Hemoglobin        Weight  \n",
       "count              13614.000000    13614.000000  13614.000000  13614.000000  \n",
       "mean                 578.886220      103.783605     12.913743     69.543558  \n",
       "std                  949.162194       39.709990      2.500163     25.289067  \n",
       "min                   23.000000       40.000000      9.000000     19.000000  \n",
       "25%                  118.000000       70.000000     10.700000     50.000000  \n",
       "50%                  250.000000      100.000000     12.700000     66.000000  \n",
       "75%                  582.000000      137.000000     15.100000     87.000000  \n",
       "max                 7861.000000      179.000000     17.500000    141.000000  "
      ]
     },
     "execution_count": 21,
     "metadata": {},
     "output_type": "execute_result"
    }
   ],
   "source": [
    "df.describe()"
   ]
  },
  {
   "cell_type": "markdown",
   "id": "5b87db4e",
   "metadata": {},
   "source": [
    "# Data Visualization"
   ]
  },
  {
   "cell_type": "markdown",
   "id": "9fde9988",
   "metadata": {},
   "source": [
    "## - Patients demographic"
   ]
  },
  {
   "cell_type": "code",
   "execution_count": 22,
   "id": "c715580d",
   "metadata": {},
   "outputs": [
    {
     "data": {
      "image/png": "[encoded data removed]",
      "text/plain": [
       "<Figure size 720x576 with 1 Axes>"
      ]
     },
     "metadata": {},
     "output_type": "display_data"
    },
    {
     "name": "stdout",
     "output_type": "stream",
     "text": [
      "Male smokers      : 4226\n",
      "Female smokers    : 206\n",
      "Male non-smokers  : 4622\n",
      "Female non-smokers: 4560\n",
      "Sample size of smoking female patients is 1.5%\n",
      "More samples in this category should be collected to have a balance dataset.\n"
     ]
    }
   ],
   "source": [
    "male_smoke=df.loc[(df['Gender']==1)&(df['Smoke']==1)]\n",
    "\n",
    "female_smoke=df.loc[(df['Gender']==0)&(df['Smoke']==1)]\n",
    "\n",
    "male_no_smoke=df.loc[(df['Gender']==1)&(df['Smoke']==0)]\n",
    "\n",
    "female_no_smoke=df.loc[(df['Gender']==0)&(df['Smoke']==0)]\n",
    "\n",
    "#define data\n",
    "data = [len(male_smoke),len(male_no_smoke),len(female_smoke),len(female_no_smoke)]\n",
    "labels = ['Male smokers', 'Male non-smokers', 'Female smokers', 'Female non-smokers']\n",
    "\n",
    "#define Seaborn color palette to use\n",
    "colors = sns.color_palette('bright')[0:4]\n",
    "\n",
    "#create pie chart\n",
    "plt.figure(figsize=(10, 8))\n",
    "plt.title(\"Patient Samples - smokers and non-smokers\", fontsize=14);\n",
    "plt.pie(data, labels = labels, colors = colors, explode=[0.05]*4, pctdistance=0.6, autopct='%.1f%%')\n",
    "plt.show()\n",
    "print('Male smokers      :',len(male_smoke))\n",
    "print('Female smokers    :',len(female_smoke))\n",
    "print('Male non-smokers  :',len(male_no_smoke))\n",
    "print('Female non-smokers:',len(female_no_smoke))\n",
    "print('Sample size of smoking female patients is 1.5%')\n",
    "print('More samples in this category should be collected to have a balance dataset.')\n"
   ]
  },
  {
   "cell_type": "code",
   "execution_count": 23,
   "id": "bc724483",
   "metadata": {},
   "outputs": [
    {
     "name": "stdout",
     "output_type": "stream",
     "text": [
      "Blue represents female\n",
      "Brown represents male\n",
      "High survival rate of smoking female patients might due to low sampling size of this category.\n"
     ]
    },
    {
     "data": {
      "image/png": "[encoded data removed]",
      "text/plain": [
       "<Figure size 720x576 with 1 Axes>"
      ]
     },
     "metadata": {
      "needs_background": "light"
     },
     "output_type": "display_data"
    }
   ],
   "source": [
    "datam =df.groupby(['Gender', 'Smoke']).agg(mean =(\"Survive\",'mean'))\n",
    "datam =datam.reset_index()\n",
    "\n",
    "plt.figure(figsize=(10, 8))\n",
    "sns.barplot(x=\"Smoke\", \n",
    "            y=\"mean\", \n",
    "            hue=\"Gender\", \n",
    "            data=datam)\n",
    "plt.ylabel(\"Mean Value\", size=14)\n",
    "plt.xlabel(\"Smokers vs Non-smokers\", size=14)\n",
    "plt.title(\"Patients Survival Rate\", size=18)\n",
    "print('Blue represents female')\n",
    "print('Brown represents male')\n",
    "print('High survival rate of smoking female patients might due to low sampling size of this category.')"
   ]
  },
  {
   "cell_type": "markdown",
   "id": "20fce7b3",
   "metadata": {},
   "source": [
    "# Check Correlation"
   ]
  },
  {
   "cell_type": "code",
   "execution_count": 24,
   "id": "7cc9dc69",
   "metadata": {},
   "outputs": [
    {
     "data": {
      "text/plain": [
       "<matplotlib.axes._subplots.AxesSubplot at 0x7fbfc526bcd0>"
      ]
     },
     "execution_count": 24,
     "metadata": {},
     "output_type": "execute_result"
    },
    {
     "data": {
      "image/png": "[encoded data removed]",
      "text/plain": [
       "<Figure size 720x576 with 2 Axes>"
      ]
     },
     "metadata": {
      "needs_background": "light"
     },
     "output_type": "display_data"
    }
   ],
   "source": [
    "fig, ax = plt.subplots(figsize=(10, 8))\n",
    "corr = df.corr()\n",
    "sns.heatmap(corr, xticklabels=corr.columns.values,yticklabels=corr.columns.values, annot=True)"
   ]
  },
  {
   "cell_type": "markdown",
   "id": "87ec9dc5",
   "metadata": {},
   "source": [
    "#### 'Age', 'Creatinine', 'Weight' have a positive correlation to 'Survive' with coefficient values > 0.1  'Sodium', 'Ejection Fraction' have negative correlation to 'Survive' with coefficients < -0.1"
   ]
  },
  {
   "cell_type": "markdown",
   "id": "368c2fa1",
   "metadata": {},
   "source": [
    "# Process Data"
   ]
  },
  {
   "cell_type": "markdown",
   "id": "11f18ab2",
   "metadata": {},
   "source": [
    "### Data scaling"
   ]
  },
  {
   "cell_type": "code",
   "execution_count": 25,
   "id": "be62a175",
   "metadata": {},
   "outputs": [
    {
     "data": {
      "text/html": [
       "<div>\n",
       "<style scoped>\n",
       "    .dataframe tbody tr th:only-of-type {\n",
       "        vertical-align: middle;\n",
       "    }\n",
       "\n",
       "    .dataframe tbody tr th {\n",
       "        vertical-align: top;\n",
       "    }\n",
       "\n",
       "    .dataframe thead th {\n",
       "        text-align: right;\n",
       "    }\n",
       "</style>\n",
       "<table border=\"1\" class=\"dataframe\">\n",
       "  <thead>\n",
       "    <tr style=\"text-align: right;\">\n",
       "      <th></th>\n",
       "      <th>Gender</th>\n",
       "      <th>Smoke</th>\n",
       "      <th>Diabetes</th>\n",
       "      <th>Age</th>\n",
       "      <th>Ejection Fraction</th>\n",
       "      <th>Sodium</th>\n",
       "      <th>Creatinine</th>\n",
       "      <th>Pletelets</th>\n",
       "      <th>Creatinine phosphokinase</th>\n",
       "      <th>Blood Pressure</th>\n",
       "      <th>Hemoglobin</th>\n",
       "      <th>Weight</th>\n",
       "    </tr>\n",
       "  </thead>\n",
       "  <tbody>\n",
       "    <tr>\n",
       "      <th>0</th>\n",
       "      <td>0.733930</td>\n",
       "      <td>1.439358</td>\n",
       "      <td>-0.771257</td>\n",
       "      <td>-0.921494</td>\n",
       "      <td>-0.359884</td>\n",
       "      <td>1.011802</td>\n",
       "      <td>-0.681748</td>\n",
       "      <td>0.031695</td>\n",
       "      <td>-0.414998</td>\n",
       "      <td>0.030633</td>\n",
       "      <td>-0.245490</td>\n",
       "      <td>0.927567</td>\n",
       "    </tr>\n",
       "    <tr>\n",
       "      <th>1</th>\n",
       "      <td>0.733930</td>\n",
       "      <td>-0.694754</td>\n",
       "      <td>-0.771257</td>\n",
       "      <td>1.179080</td>\n",
       "      <td>-0.359884</td>\n",
       "      <td>-0.584970</td>\n",
       "      <td>1.041136</td>\n",
       "      <td>-0.397721</td>\n",
       "      <td>-0.505608</td>\n",
       "      <td>1.466093</td>\n",
       "      <td>0.034502</td>\n",
       "      <td>-0.891468</td>\n",
       "    </tr>\n",
       "    <tr>\n",
       "      <th>2</th>\n",
       "      <td>-1.362528</td>\n",
       "      <td>-0.694754</td>\n",
       "      <td>0.472217</td>\n",
       "      <td>1.599195</td>\n",
       "      <td>-0.359884</td>\n",
       "      <td>-0.356860</td>\n",
       "      <td>-0.107454</td>\n",
       "      <td>-0.724895</td>\n",
       "      <td>0.207679</td>\n",
       "      <td>1.894212</td>\n",
       "      <td>-0.205491</td>\n",
       "      <td>-0.337848</td>\n",
       "    </tr>\n",
       "    <tr>\n",
       "      <th>3</th>\n",
       "      <td>0.733930</td>\n",
       "      <td>-0.694754</td>\n",
       "      <td>-0.771257</td>\n",
       "      <td>-0.081264</td>\n",
       "      <td>-0.359884</td>\n",
       "      <td>-0.128750</td>\n",
       "      <td>-0.490317</td>\n",
       "      <td>-0.356824</td>\n",
       "      <td>1.772274</td>\n",
       "      <td>0.811322</td>\n",
       "      <td>0.954475</td>\n",
       "      <td>-0.851923</td>\n",
       "    </tr>\n",
       "    <tr>\n",
       "      <th>4</th>\n",
       "      <td>-1.362528</td>\n",
       "      <td>-0.694754</td>\n",
       "      <td>-0.771257</td>\n",
       "      <td>0.758965</td>\n",
       "      <td>-0.359884</td>\n",
       "      <td>1.011802</td>\n",
       "      <td>-0.490317</td>\n",
       "      <td>0.972319</td>\n",
       "      <td>0.656512</td>\n",
       "      <td>1.692744</td>\n",
       "      <td>0.154498</td>\n",
       "      <td>-0.219216</td>\n",
       "    </tr>\n",
       "  </tbody>\n",
       "</table>\n",
       "</div>"
      ],
      "text/plain": [
       "     Gender     Smoke  Diabetes       Age  Ejection Fraction    Sodium  \\\n",
       "0  0.733930  1.439358 -0.771257 -0.921494          -0.359884  1.011802   \n",
       "1  0.733930 -0.694754 -0.771257  1.179080          -0.359884 -0.584970   \n",
       "2 -1.362528 -0.694754  0.472217  1.599195          -0.359884 -0.356860   \n",
       "3  0.733930 -0.694754 -0.771257 -0.081264          -0.359884 -0.128750   \n",
       "4 -1.362528 -0.694754 -0.771257  0.758965          -0.359884  1.011802   \n",
       "\n",
       "   Creatinine  Pletelets  Creatinine phosphokinase  Blood Pressure  \\\n",
       "0   -0.681748   0.031695                 -0.414998        0.030633   \n",
       "1    1.041136  -0.397721                 -0.505608        1.466093   \n",
       "2   -0.107454  -0.724895                  0.207679        1.894212   \n",
       "3   -0.490317  -0.356824                  1.772274        0.811322   \n",
       "4   -0.490317   0.972319                  0.656512        1.692744   \n",
       "\n",
       "   Hemoglobin    Weight  \n",
       "0   -0.245490  0.927567  \n",
       "1    0.034502 -0.891468  \n",
       "2   -0.205491 -0.337848  \n",
       "3    0.954475 -0.851923  \n",
       "4    0.154498 -0.219216  "
      ]
     },
     "execution_count": 25,
     "metadata": {},
     "output_type": "execute_result"
    }
   ],
   "source": [
    "target = ['Survive']\n",
    "variables = df.columns[1:]\n",
    "names = df[variables].columns\n",
    "scaler = preprocessing.StandardScaler()\n",
    "scaled_df = scaler.fit_transform(df[variables])\n",
    "scaled_df = pd.DataFrame(scaled_df, columns=names)\n",
    "scaled_df.head()"
   ]
  },
  {
   "cell_type": "markdown",
   "id": "92de654a",
   "metadata": {},
   "source": [
    "#### Split data to training set 80% and testing sets 20%"
   ]
  },
  {
   "cell_type": "code",
   "execution_count": 26,
   "id": "35f82ed3",
   "metadata": {},
   "outputs": [
    {
     "name": "stdout",
     "output_type": "stream",
     "text": [
      "(10891, 12) (10891, 1)\n",
      "(2723, 12) (2723, 1)\n"
     ]
    }
   ],
   "source": [
    "y = df[target]\n",
    "X_train, X_test, y_train, y_test = train_test_split(scaled_df, y, test_size=0.2, random_state =0)\n",
    "print(X_train.shape, y_train.shape)\n",
    "print(X_test.shape, y_test.shape)"
   ]
  },
  {
   "cell_type": "markdown",
   "id": "3baa4bd7",
   "metadata": {},
   "source": [
    "# Logistic Regression"
   ]
  },
  {
   "cell_type": "code",
   "execution_count": 27,
   "id": "d80a8be4",
   "metadata": {},
   "outputs": [],
   "source": [
    "from sklearn import linear_model\n",
    "log = linear_model.LogisticRegression()\n",
    "log_model = log.fit(X_train, y_train.values.ravel())\n",
    "log_predictions = log.predict(X_test)"
   ]
  },
  {
   "cell_type": "code",
   "execution_count": 28,
   "id": "e1e45609",
   "metadata": {},
   "outputs": [
    {
     "name": "stdout",
     "output_type": "stream",
     "text": [
      "Prediction accuracy 0.7752478883584282\n"
     ]
    }
   ],
   "source": [
    "print('Prediction accuracy', log_model.score(X_test, y_test)) #mean accuracy "
   ]
  },
  {
   "cell_type": "markdown",
   "id": "925de2ed",
   "metadata": {},
   "source": [
    "### Confusion Matrix (Logistic Regression)"
   ]
  },
  {
   "cell_type": "code",
   "execution_count": 29,
   "id": "239129b8",
   "metadata": {},
   "outputs": [
    {
     "name": "stdout",
     "output_type": "stream",
     "text": [
      "Accurracy: 0.7752478883584282\n",
      "Precision: 0.7211678832116788\n",
      "Recall: 0.5398907103825137\n",
      "F-score: 0.6174999999999999\n"
     ]
    },
    {
     "name": "stderr",
     "output_type": "stream",
     "text": [
      "/home/stdynamics/venv/lib/python3.8/site-packages/sklearn/utils/deprecation.py:87: FutureWarning: Function plot_confusion_matrix is deprecated; Function `plot_confusion_matrix` is deprecated in 1.0 and will be removed in 1.2. Use one of the class methods: ConfusionMatrixDisplay.from_predictions or ConfusionMatrixDisplay.from_estimator.\n",
      "  warnings.warn(msg, category=FutureWarning)\n"
     ]
    },
    {
     "data": {
      "image/png": "[encoded data removed]",
      "text/plain": [
       "<Figure size 432x288 with 2 Axes>"
      ]
     },
     "metadata": {
      "needs_background": "light"
     },
     "output_type": "display_data"
    }
   ],
   "source": [
    "TN, FP, FN, TP = confusion_matrix(y_test,log_predictions).ravel()\n",
    "test_accu = (TP + TN) / ( TP + TN + FN + FP)\n",
    "precision = (TP) / (TP + FP)\n",
    "recall = (TP) /(TP + FN)\n",
    "f_score = (2 * recall * precision) / (recall + precision)\n",
    "print('Accurracy:', test_accu)\n",
    "print('Precision:', precision)\n",
    "print('Recall:', recall)\n",
    "print('F-score:', f_score)\n",
    "#SVC(random_state=0)\n",
    "plot_confusion_matrix(log_model, X_test, y_test)  \n",
    "plt.show()"
   ]
  },
  {
   "cell_type": "markdown",
   "id": "de3966cc",
   "metadata": {},
   "source": [
    "# GaussianNB"
   ]
  },
  {
   "cell_type": "code",
   "execution_count": 30,
   "id": "0f6b69b8",
   "metadata": {},
   "outputs": [],
   "source": [
    "from sklearn.naive_bayes import GaussianNB\n",
    "gaus = GaussianNB()\n",
    "gaus_model = gaus.fit(X_train, y_train.values.ravel())\n",
    "gaus_predictions = gaus.predict(X_test)"
   ]
  },
  {
   "cell_type": "code",
   "execution_count": 31,
   "id": "710d459e",
   "metadata": {
    "scrolled": true
   },
   "outputs": [
    {
     "name": "stdout",
     "output_type": "stream",
     "text": [
      "Prediction accuracy: 0.7506426735218509\n"
     ]
    }
   ],
   "source": [
    "print('Prediction accuracy:', gaus_model.score(X_test, y_test))"
   ]
  },
  {
   "cell_type": "markdown",
   "id": "8e2a5d92",
   "metadata": {},
   "source": [
    "### Confusion Matrix (Gaussian NB)"
   ]
  },
  {
   "cell_type": "code",
   "execution_count": 32,
   "id": "9d05ea6d",
   "metadata": {},
   "outputs": [
    {
     "name": "stdout",
     "output_type": "stream",
     "text": [
      "Accurracy: 0.7506426735218509\n",
      "Precision: 0.7107142857142857\n",
      "Recall: 0.4349726775956284\n",
      "F-score: 0.5396610169491526\n"
     ]
    },
    {
     "name": "stderr",
     "output_type": "stream",
     "text": [
      "/home/stdynamics/venv/lib/python3.8/site-packages/sklearn/utils/deprecation.py:87: FutureWarning: Function plot_confusion_matrix is deprecated; Function `plot_confusion_matrix` is deprecated in 1.0 and will be removed in 1.2. Use one of the class methods: ConfusionMatrixDisplay.from_predictions or ConfusionMatrixDisplay.from_estimator.\n",
      "  warnings.warn(msg, category=FutureWarning)\n"
     ]
    },
    {
     "data": {
      "image/png": "[encoded data removed]",
      "text/plain": [
       "<Figure size 432x288 with 2 Axes>"
      ]
     },
     "metadata": {
      "needs_background": "light"
     },
     "output_type": "display_data"
    }
   ],
   "source": [
    "TN, FP, FN, TP = confusion_matrix(y_test,gaus_predictions).ravel()\n",
    "test_accu = (TP + TN) / ( TP + TN + FN + FP)\n",
    "precision = (TP) / (TP + FP)\n",
    "recall = (TP) /(TP + FN)\n",
    "f_score = (2 * recall * precision) / (recall + precision)\n",
    "print('Accurracy:', test_accu)\n",
    "print('Precision:', precision)\n",
    "print('Recall:', recall)\n",
    "print('F-score:', f_score)\n",
    "plot_confusion_matrix(gaus_model, X_test, y_test)  \n",
    "plt.show()"
   ]
  },
  {
   "cell_type": "markdown",
   "id": "3e403a72",
   "metadata": {},
   "source": [
    "# Decision Tree"
   ]
  },
  {
   "cell_type": "code",
   "execution_count": 33,
   "id": "cf9233a1",
   "metadata": {},
   "outputs": [],
   "source": [
    "#from sklearn.tree import DecisionTreeClassfier\n",
    "from sklearn import tree\n",
    "\n",
    "dtree = tree.DecisionTreeClassifier(criterion = 'entropy')\n",
    "dtree_model = dtree.fit(X_train,y_train)\n",
    "dtree_predictions = dtree.predict(X_test)"
   ]
  },
  {
   "cell_type": "code",
   "execution_count": 34,
   "id": "618bcb4b",
   "metadata": {},
   "outputs": [
    {
     "name": "stdout",
     "output_type": "stream",
     "text": [
      "Prediction accuracy 0.9988982739625413\n"
     ]
    }
   ],
   "source": [
    "print('Prediction accuracy', dtree_model.score(X_test, y_test))"
   ]
  },
  {
   "cell_type": "markdown",
   "id": "f39d884c",
   "metadata": {},
   "source": [
    "### Confusion Matrix (Decision Tree)"
   ]
  },
  {
   "cell_type": "code",
   "execution_count": 35,
   "id": "b82000bc",
   "metadata": {},
   "outputs": [
    {
     "name": "stdout",
     "output_type": "stream",
     "text": [
      "Accurracy: 0.9988982739625413\n",
      "Precision: 0.9967320261437909\n",
      "Recall: 1.0\n",
      "F-score: 0.9983633387888707\n"
     ]
    },
    {
     "name": "stderr",
     "output_type": "stream",
     "text": [
      "/home/stdynamics/venv/lib/python3.8/site-packages/sklearn/utils/deprecation.py:87: FutureWarning: Function plot_confusion_matrix is deprecated; Function `plot_confusion_matrix` is deprecated in 1.0 and will be removed in 1.2. Use one of the class methods: ConfusionMatrixDisplay.from_predictions or ConfusionMatrixDisplay.from_estimator.\n",
      "  warnings.warn(msg, category=FutureWarning)\n"
     ]
    },
    {
     "data": {
      "image/png": "[encoded data removed]",
      "text/plain": [
       "<Figure size 432x288 with 2 Axes>"
      ]
     },
     "metadata": {
      "needs_background": "light"
     },
     "output_type": "display_data"
    }
   ],
   "source": [
    "TN, FP, FN, TP = confusion_matrix(y_test,dtree_predictions).ravel()\n",
    "test_accu = (TP + TN) / ( TP + TN + FN + FP)\n",
    "precision = (TP) / (TP + FP)\n",
    "recall = (TP) /(TP + FN)\n",
    "f_score = (2 * recall * precision) / (recall + precision)\n",
    "print('Accurracy:', test_accu)\n",
    "print('Precision:', precision)\n",
    "print('Recall:', recall)\n",
    "print('F-score:', f_score)\n",
    "plot_confusion_matrix(dtree_model, X_test, y_test)  \n",
    "plt.show()"
   ]
  },
  {
   "cell_type": "markdown",
   "id": "a1fd975c",
   "metadata": {},
   "source": [
    "# Random Forest"
   ]
  },
  {
   "cell_type": "code",
   "execution_count": 36,
   "id": "c5b08937",
   "metadata": {},
   "outputs": [],
   "source": [
    "from sklearn.ensemble import RandomForestClassifier\n",
    "forest = RandomForestClassifier(n_estimators=10, criterion='entropy')\n",
    "#forest_model = forest.fit(X_train, y_train)\n",
    "forest_model = forest.fit(X_train, y_train.values.ravel())\n",
    "forest_predictions = forest.predict(X_test)"
   ]
  },
  {
   "cell_type": "code",
   "execution_count": 37,
   "id": "2ec8161b",
   "metadata": {},
   "outputs": [
    {
     "name": "stdout",
     "output_type": "stream",
     "text": [
      "Prediction accuracy: 0.9992655159750276\n"
     ]
    }
   ],
   "source": [
    "print('Prediction accuracy:', forest_model.score(X_test, y_test))"
   ]
  },
  {
   "cell_type": "markdown",
   "id": "5dd43aed",
   "metadata": {},
   "source": [
    "### Confusion Matrix (Random Forest)"
   ]
  },
  {
   "cell_type": "code",
   "execution_count": 38,
   "id": "4ecde492",
   "metadata": {},
   "outputs": [
    {
     "name": "stdout",
     "output_type": "stream",
     "text": [
      "Accurracy: 0.9992655159750276\n",
      "Precision: 1.0\n",
      "Recall: 0.9978142076502732\n",
      "F-score: 0.9989059080962801\n"
     ]
    },
    {
     "name": "stderr",
     "output_type": "stream",
     "text": [
      "/home/stdynamics/venv/lib/python3.8/site-packages/sklearn/utils/deprecation.py:87: FutureWarning: Function plot_confusion_matrix is deprecated; Function `plot_confusion_matrix` is deprecated in 1.0 and will be removed in 1.2. Use one of the class methods: ConfusionMatrixDisplay.from_predictions or ConfusionMatrixDisplay.from_estimator.\n",
      "  warnings.warn(msg, category=FutureWarning)\n"
     ]
    },
    {
     "data": {
      "image/png": "[encoded data removed]",
      "text/plain": [
       "<Figure size 432x288 with 2 Axes>"
      ]
     },
     "metadata": {
      "needs_background": "light"
     },
     "output_type": "display_data"
    }
   ],
   "source": [
    "TN, FP, FN, TP = confusion_matrix(y_test,forest_predictions).ravel()\n",
    "test_accu = (TP + TN) / ( TP + TN + FN + FP)\n",
    "precision = (TP) / (TP + FP)\n",
    "recall = (TP) /(TP + FN)\n",
    "f_score = (2 * recall * precision) / (recall + precision)\n",
    "print('Accurracy:', test_accu)\n",
    "print('Precision:', precision)\n",
    "print('Recall:', recall)\n",
    "print('F-score:', f_score)\n",
    "plot_confusion_matrix(forest_model, X_test, y_test)  \n",
    "plt.show()"
   ]
  },
  {
   "cell_type": "markdown",
   "id": "4e1c28c7",
   "metadata": {},
   "source": [
    "# Conclusion"
   ]
  },
  {
   "cell_type": "markdown",
   "id": "71f4e68c",
   "metadata": {},
   "source": [
    "#### Base on the F-score in the 4 algorithm, Random Forest Classifier has the best performance"
   ]
  },
  {
   "cell_type": "code",
   "execution_count": null,
   "id": "fac8d709",
   "metadata": {},
   "outputs": [],
   "source": []
  },
  {
   "cell_type": "code",
   "execution_count": null,
   "id": "ac447202",
   "metadata": {},
   "outputs": [],
   "source": []
  },
  {
   "cell_type": "code",
   "execution_count": null,
   "id": "1fcdce93",
   "metadata": {},
   "outputs": [],
   "source": []
  },
  {
   "cell_type": "code",
   "execution_count": null,
   "id": "4711fe21",
   "metadata": {},
   "outputs": [],
   "source": []
  },
  {
   "cell_type": "code",
   "execution_count": null,
   "id": "60e0b06a",
   "metadata": {},
   "outputs": [],
   "source": []
  }
 ],
 "metadata": {
  "kernelspec": {
   "display_name": "Python 3 (ipykernel)",
   "language": "python",
   "name": "python3"
  },
  "language_info": {
   "codemirror_mode": {
    "name": "ipython",
    "version": 3
   },
   "file_extension": ".py",
   "mimetype": "text/x-python",
   "name": "python",
   "nbconvert_exporter": "python",
   "pygments_lexer": "ipython3",
   "version": "3.8.10"
  }
 },
 "nbformat": 4,
 "nbformat_minor": 5
}
